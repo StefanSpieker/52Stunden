{
 "cells": [
  {
   "cell_type": "markdown",
   "metadata": {},
   "source": [
    "# Jupyter Notebook: Temperaturvorhersage"
   ]
  },
  {
   "cell_type": "markdown",
   "metadata": {},
   "source": [
    "## Daten Laden\n",
    "Als erstes laden wir die Datei (jährliche Durchschnittstemperaturen) aus der Datei 'regional_averages_tm_year.txt'. Dieses Mal geben wir uns nicht mit einfachen Arrays zufrieden. Stattdessen speichern wir die Daten direkt in einem DataFrame."
   ]
  },
  {
   "cell_type": "markdown",
   "metadata": {},
   "source": [
    "<div class=\"alert alert-info\">\n",
    "   \n",
    "**Wichtig:** Wir benötigen in diesem Notebook die Bibliotheken pandas, numpy und scikit-learn.\n",
    "    \n",
    "Falls noch nicht geschehen, führe die Befehle 'pip install pandas', 'pip install numpy' und 'pip install scikit-learn' aus.\n",
    "\n",
    "</div>"
   ]
  },
  {
   "cell_type": "markdown",
   "metadata": {},
   "source": [
    "<div class=\"alert alert-info\">\n",
    "\n",
    "**Wichtig:** Die zu lesende Datei muss sich in demselben Verzeichnis befinden wie das Jupyter Notebook!\n",
    "\n",
    "Falls dies nicht der Fall ist muss die Datei in dasselbe Verzeichnis kopiert oder ein absoluter Pfad angegeben werden. Ein absoluter Pfad wäre zum Beispiel: 'C:/Downloads/regional_averages_tm_year.txt' anstatt 'regional_averages_tm_year.txt'.\n",
    "\n",
    "</div>"
   ]
  },
  {
   "cell_type": "code",
   "execution_count": 6,
   "metadata": {},
   "outputs": [
    {
     "data": {
      "text/html": [
       "<div>\n",
       "<style scoped>\n",
       "    .dataframe tbody tr th:only-of-type {\n",
       "        vertical-align: middle;\n",
       "    }\n",
       "\n",
       "    .dataframe tbody tr th {\n",
       "        vertical-align: top;\n",
       "    }\n",
       "\n",
       "    .dataframe thead th {\n",
       "        text-align: right;\n",
       "    }\n",
       "</style>\n",
       "<table border=\"1\" class=\"dataframe\">\n",
       "  <thead>\n",
       "    <tr style=\"text-align: right;\">\n",
       "      <th></th>\n",
       "      <th>Jahr</th>\n",
       "      <th>Jahr.1</th>\n",
       "      <th>Brandenburg/Berlin</th>\n",
       "      <th>Brandenburg</th>\n",
       "      <th>Baden-Wuerttemberg</th>\n",
       "      <th>Bayern</th>\n",
       "      <th>Hessen</th>\n",
       "      <th>Mecklenburg-Vorpommern</th>\n",
       "      <th>Niedersachsen</th>\n",
       "      <th>Niedersachsen/Hamburg/Bremen</th>\n",
       "      <th>Nordrhein-Westfalen</th>\n",
       "      <th>Rheinland-Pfalz</th>\n",
       "      <th>Schleswig-Holstein</th>\n",
       "      <th>Saarland</th>\n",
       "      <th>Sachsen</th>\n",
       "      <th>Sachsen-Anhalt</th>\n",
       "      <th>Thueringen/Sachsen-Anhalt</th>\n",
       "      <th>Thueringen</th>\n",
       "      <th>Deutschland</th>\n",
       "      <th>Unnamed: 19</th>\n",
       "    </tr>\n",
       "  </thead>\n",
       "  <tbody>\n",
       "    <tr>\n",
       "      <th>0</th>\n",
       "      <td>1881</td>\n",
       "      <td>year</td>\n",
       "      <td>7.55</td>\n",
       "      <td>7.54</td>\n",
       "      <td>7.66</td>\n",
       "      <td>6.61</td>\n",
       "      <td>7.49</td>\n",
       "      <td>6.96</td>\n",
       "      <td>7.54</td>\n",
       "      <td>7.54</td>\n",
       "      <td>8.14</td>\n",
       "      <td>7.97</td>\n",
       "      <td>7.12</td>\n",
       "      <td>8.28</td>\n",
       "      <td>6.71</td>\n",
       "      <td>7.46</td>\n",
       "      <td>7.11</td>\n",
       "      <td>6.66</td>\n",
       "      <td>7.31</td>\n",
       "      <td>NaN</td>\n",
       "    </tr>\n",
       "    <tr>\n",
       "      <th>1</th>\n",
       "      <td>1882</td>\n",
       "      <td>year</td>\n",
       "      <td>8.99</td>\n",
       "      <td>8.97</td>\n",
       "      <td>8.08</td>\n",
       "      <td>7.33</td>\n",
       "      <td>8.25</td>\n",
       "      <td>8.54</td>\n",
       "      <td>8.88</td>\n",
       "      <td>8.88</td>\n",
       "      <td>9.03</td>\n",
       "      <td>8.55</td>\n",
       "      <td>8.78</td>\n",
       "      <td>8.79</td>\n",
       "      <td>8.12</td>\n",
       "      <td>8.81</td>\n",
       "      <td>8.35</td>\n",
       "      <td>7.77</td>\n",
       "      <td>8.34</td>\n",
       "      <td>NaN</td>\n",
       "    </tr>\n",
       "    <tr>\n",
       "      <th>2</th>\n",
       "      <td>1883</td>\n",
       "      <td>year</td>\n",
       "      <td>8.42</td>\n",
       "      <td>8.41</td>\n",
       "      <td>7.77</td>\n",
       "      <td>6.85</td>\n",
       "      <td>7.96</td>\n",
       "      <td>7.95</td>\n",
       "      <td>8.39</td>\n",
       "      <td>8.39</td>\n",
       "      <td>8.71</td>\n",
       "      <td>8.26</td>\n",
       "      <td>8.18</td>\n",
       "      <td>8.51</td>\n",
       "      <td>7.46</td>\n",
       "      <td>8.32</td>\n",
       "      <td>7.87</td>\n",
       "      <td>7.31</td>\n",
       "      <td>7.88</td>\n",
       "      <td>NaN</td>\n",
       "    </tr>\n",
       "    <tr>\n",
       "      <th>3</th>\n",
       "      <td>1884</td>\n",
       "      <td>year</td>\n",
       "      <td>9.11</td>\n",
       "      <td>9.10</td>\n",
       "      <td>8.44</td>\n",
       "      <td>7.52</td>\n",
       "      <td>8.58</td>\n",
       "      <td>8.73</td>\n",
       "      <td>9.09</td>\n",
       "      <td>9.10</td>\n",
       "      <td>9.39</td>\n",
       "      <td>8.94</td>\n",
       "      <td>8.86</td>\n",
       "      <td>9.18</td>\n",
       "      <td>8.21</td>\n",
       "      <td>8.94</td>\n",
       "      <td>8.47</td>\n",
       "      <td>7.89</td>\n",
       "      <td>8.57</td>\n",
       "      <td>NaN</td>\n",
       "    </tr>\n",
       "    <tr>\n",
       "      <th>4</th>\n",
       "      <td>1885</td>\n",
       "      <td>year</td>\n",
       "      <td>8.40</td>\n",
       "      <td>8.39</td>\n",
       "      <td>7.82</td>\n",
       "      <td>7.04</td>\n",
       "      <td>7.66</td>\n",
       "      <td>7.68</td>\n",
       "      <td>7.94</td>\n",
       "      <td>7.94</td>\n",
       "      <td>8.31</td>\n",
       "      <td>8.01</td>\n",
       "      <td>7.62</td>\n",
       "      <td>8.30</td>\n",
       "      <td>7.73</td>\n",
       "      <td>8.07</td>\n",
       "      <td>7.67</td>\n",
       "      <td>7.16</td>\n",
       "      <td>7.74</td>\n",
       "      <td>NaN</td>\n",
       "    </tr>\n",
       "  </tbody>\n",
       "</table>\n",
       "</div>"
      ],
      "text/plain": [
       "   Jahr Jahr.1  Brandenburg/Berlin  Brandenburg  Baden-Wuerttemberg  Bayern  \\\n",
       "0  1881   year                7.55         7.54                7.66    6.61   \n",
       "1  1882   year                8.99         8.97                8.08    7.33   \n",
       "2  1883   year                8.42         8.41                7.77    6.85   \n",
       "3  1884   year                9.11         9.10                8.44    7.52   \n",
       "4  1885   year                8.40         8.39                7.82    7.04   \n",
       "\n",
       "   Hessen  Mecklenburg-Vorpommern  Niedersachsen  \\\n",
       "0    7.49                    6.96           7.54   \n",
       "1    8.25                    8.54           8.88   \n",
       "2    7.96                    7.95           8.39   \n",
       "3    8.58                    8.73           9.09   \n",
       "4    7.66                    7.68           7.94   \n",
       "\n",
       "   Niedersachsen/Hamburg/Bremen  Nordrhein-Westfalen  Rheinland-Pfalz  \\\n",
       "0                          7.54                 8.14             7.97   \n",
       "1                          8.88                 9.03             8.55   \n",
       "2                          8.39                 8.71             8.26   \n",
       "3                          9.10                 9.39             8.94   \n",
       "4                          7.94                 8.31             8.01   \n",
       "\n",
       "   Schleswig-Holstein  Saarland  Sachsen  Sachsen-Anhalt  \\\n",
       "0                7.12      8.28     6.71            7.46   \n",
       "1                8.78      8.79     8.12            8.81   \n",
       "2                8.18      8.51     7.46            8.32   \n",
       "3                8.86      9.18     8.21            8.94   \n",
       "4                7.62      8.30     7.73            8.07   \n",
       "\n",
       "   Thueringen/Sachsen-Anhalt  Thueringen  Deutschland  Unnamed: 19  \n",
       "0                       7.11        6.66         7.31          NaN  \n",
       "1                       8.35        7.77         8.34          NaN  \n",
       "2                       7.87        7.31         7.88          NaN  \n",
       "3                       8.47        7.89         8.57          NaN  \n",
       "4                       7.67        7.16         7.74          NaN  "
      ]
     },
     "execution_count": 6,
     "metadata": {},
     "output_type": "execute_result"
    }
   ],
   "source": [
    "import pandas as pd\n",
    "\n",
    "df_raw = pd.read_csv('regional_averages_tm_year.txt', delimiter=\";\", skiprows=1)\n",
    "\n",
    "df_raw.head()"
   ]
  },
  {
   "cell_type": "markdown",
   "metadata": {},
   "source": [
    "Wir beschränken uns diesmal auf die Temperatur von (Gesamt-)Deutschland. Wir benennen die Jahreszahl mit x und die Temperatur für Deutschland mit y."
   ]
  },
  {
   "cell_type": "code",
   "execution_count": 7,
   "metadata": {},
   "outputs": [
    {
     "data": {
      "text/html": [
       "<div>\n",
       "<style scoped>\n",
       "    .dataframe tbody tr th:only-of-type {\n",
       "        vertical-align: middle;\n",
       "    }\n",
       "\n",
       "    .dataframe tbody tr th {\n",
       "        vertical-align: top;\n",
       "    }\n",
       "\n",
       "    .dataframe thead th {\n",
       "        text-align: right;\n",
       "    }\n",
       "</style>\n",
       "<table border=\"1\" class=\"dataframe\">\n",
       "  <thead>\n",
       "    <tr style=\"text-align: right;\">\n",
       "      <th></th>\n",
       "      <th>x</th>\n",
       "      <th>y</th>\n",
       "    </tr>\n",
       "  </thead>\n",
       "  <tbody>\n",
       "    <tr>\n",
       "      <th>0</th>\n",
       "      <td>1881</td>\n",
       "      <td>7.31</td>\n",
       "    </tr>\n",
       "    <tr>\n",
       "      <th>1</th>\n",
       "      <td>1882</td>\n",
       "      <td>8.34</td>\n",
       "    </tr>\n",
       "    <tr>\n",
       "      <th>2</th>\n",
       "      <td>1883</td>\n",
       "      <td>7.88</td>\n",
       "    </tr>\n",
       "    <tr>\n",
       "      <th>3</th>\n",
       "      <td>1884</td>\n",
       "      <td>8.57</td>\n",
       "    </tr>\n",
       "    <tr>\n",
       "      <th>4</th>\n",
       "      <td>1885</td>\n",
       "      <td>7.74</td>\n",
       "    </tr>\n",
       "  </tbody>\n",
       "</table>\n",
       "</div>"
      ],
      "text/plain": [
       "      x     y\n",
       "0  1881  7.31\n",
       "1  1882  8.34\n",
       "2  1883  7.88\n",
       "3  1884  8.57\n",
       "4  1885  7.74"
      ]
     },
     "execution_count": 7,
     "metadata": {},
     "output_type": "execute_result"
    }
   ],
   "source": [
    "df = pd.DataFrame(\n",
    "    {'x': df_raw['Jahr'],\n",
    "     'y': df_raw['Deutschland']}\n",
    ")\n",
    "\n",
    "df.head()"
   ]
  },
  {
   "cell_type": "markdown",
   "metadata": {},
   "source": [
    "## Berechne lineare Regression\n",
    "Nun berechnen wir anhand der Daten x und y ein lineares Modell, dass den Zusammenhang von Jahreszahl und Temperatur darstellt.\n",
    "\n",
    "### manuelle Berechnung\n",
    "Wir können a und b manuell berechnen. Mithilfe von pandas und numpy funktioniert das innerhalb weniger Zeilen. Für die Berechnung benötigen wir Mittelwert, Varianz von x und Covarianz von x und y. Auf die mathematischen Einzelheiten gehen wir an dieser Stelle nicht näher ein."
   ]
  },
  {
   "cell_type": "code",
   "execution_count": 8,
   "metadata": {},
   "outputs": [
    {
     "name": "stdout",
     "output_type": "stream",
     "text": [
      "a = -13.894688323875068\n",
      "b = 0.011410742213682473\n"
     ]
    }
   ],
   "source": [
    "import numpy as np\n",
    "\n",
    "x_mittel = np.mean(df['x'])\n",
    "y_mittel = np.mean(df['y'])\n",
    "\n",
    "df['xy_cov'] = (df['x'] - x_mittel) * (df['y'] - y_mittel)\n",
    "df['x_var'] = (df['x'] - x_mittel)**2\n",
    "\n",
    "b = df['xy_cov'].sum() / df['x_var'].sum()\n",
    "a = y_mittel - (b * x_mittel)\n",
    "print(f'a = {a}')\n",
    "print(f'b = {b}')"
   ]
  },
  {
   "cell_type": "markdown",
   "metadata": {},
   "source": [
    "Anhand von a und b können wir nun eine Abschätzung von y berechnen. Zunächst für alle Werte von x und dann für ein bestimmtes Jahr."
   ]
  },
  {
   "cell_type": "code",
   "execution_count": 9,
   "metadata": {},
   "outputs": [
    {
     "name": "stdout",
     "output_type": "stream",
     "text": [
      "Vorhersage für 2020: 9.155010947763527\n"
     ]
    }
   ],
   "source": [
    "y_schaetzung = b*df['x'] + a\n",
    "\n",
    "jahr_vorhersage = 2020\n",
    "y_schaetzung_bestimmtes_jahr = b*jahr_vorhersage + a\n",
    "print (\"Vorhersage für \" + str(jahr_vorhersage) + \": \" + str(y_schaetzung_bestimmtes_jahr))\n"
   ]
  },
  {
   "cell_type": "markdown",
   "metadata": {},
   "source": [
    "### Ausgabe Ergebnisse\n",
    "Mit matplotlib können wir die tatsächlichen Werte y und die geschätzten Werte y_schaetzung in einer Grafik darstellen."
   ]
  },
  {
   "cell_type": "code",
   "execution_count": 10,
   "metadata": {},
   "outputs": [
    {
     "data": {
      "image/png": "[encoded data removed]",
      "text/plain": [
       "<Figure size 864x432 with 1 Axes>"
      ]
     },
     "metadata": {
      "needs_background": "light"
     },
     "output_type": "display_data"
    }
   ],
   "source": [
    "from matplotlib import pyplot as plt\n",
    "\n",
    "plt.figure(figsize=(12, 6))\n",
    "plt.plot(df['x'], y_schaetzung) # mithilfe der linearen Regression bestimmte Gerade\n",
    "plt.plot(df['x'], df['y'], 'ro') # Scatter Plot der tatsächlichen Werte\n",
    "plt.plot(jahr_vorhersage, y_schaetzung_bestimmtes_jahr, 'bo') # vorhergesagter Datenpunkt\n",
    "plt.title('Zusammenhang zwischen Jahreszahl x und Temperatur y')\n",
    "plt.xlabel('x')\n",
    "plt.ylabel('y')\n",
    "\n",
    "plt.show()"
   ]
  },
  {
   "cell_type": "markdown",
   "metadata": {},
   "source": [
    "### Berechnung mithilfe von scikit-learn\n",
    "Noch einfacher lassen sich Verfahren wie die lineare Regression mithilfe von scikit-learn durchführen. Das erfolgt in drei Schritte: \n",
    "\n",
    "1. Modell initialisieren\n",
    "2. Modell fitten (engl. anpassen)\n",
    "3. Modell auswerten\n",
    "\n",
    "Beachte, dass auch diesmal wieder die Variablen a und b bestimmt werden. Nur tun wir dies nicht selbst. Stattdessen werden sie während dem Fitten des Modells durch die scikit-learn Bibliothek berechnet. Wir können uns a und b aber ausgeben lassen und kontrollieren ob dieselbe Werte angezeigt werden wie in unserer manuellen Berechnung oben."
   ]
  },
  {
   "cell_type": "code",
   "execution_count": 11,
   "metadata": {},
   "outputs": [
    {
     "name": "stdout",
     "output_type": "stream",
     "text": [
      "a = -13.894688323875064\n",
      "b = [0.01141074]\n"
     ]
    }
   ],
   "source": [
    "from sklearn.linear_model import LinearRegression\n",
    "\n",
    "x = np.array(df['x'])\n",
    "X = np.array(df['x']).reshape(-1, 1)\n",
    "y = np.array(df['y'])\n",
    "\n",
    "# 1. Modell initialisieren\n",
    "lm = LinearRegression() \n",
    "\n",
    "# 2. Modell fitten\n",
    "#model = lm.fit(x,y)\n",
    "model = lm.fit(X, y) \n",
    "\n",
    "print(f'a = {model.intercept_}')\n",
    "print(f'b = {model.coef_}')"
   ]
  },
  {
   "cell_type": "markdown",
   "metadata": {},
   "source": [
    "Die Auswertung des Modells erfolgt mit der predict-Methode. Welche Temperatur wird für 2020 vorhergesagt? Deckt sich die Vorhersage mit unserer manuellen Berechnung beziehungsweise dem Plot?"
   ]
  },
  {
   "cell_type": "code",
   "execution_count": 12,
   "metadata": {},
   "outputs": [
    {
     "data": {
      "text/plain": [
       "array([9.15501095])"
      ]
     },
     "execution_count": 12,
     "metadata": {},
     "output_type": "execute_result"
    }
   ],
   "source": [
    "# 3. Modell auswerten\n",
    "model.predict([[jahr_vorhersage]])"
   ]
  },
  {
   "cell_type": "markdown",
   "metadata": {},
   "source": [
    "<div class=\"alert alert-info\">\n",
    "\n",
    "**Hinweis:** Für das Fitten des Modells erwartet die scikit-learn Bibliothek eine Matrix X und einen Vektor y als Eingabe.\n",
    "    \n",
    "Wenn du den Code selbst geschribeben hättest, hättest du reshape() verwendet? Entferne das Kommentarzeichen aus der Zeile \"model = lm.fit(x,y)\" und versuche was passiert, wenn du den Vektor x direkt an die fit-Methode übergibst.\n",
    "    \n",
    "Dass die fit-Methode X als Matrix erwartet ist verständlich, da ja mehr als nur eine einzige Einflussgröße existieren kann. Sollte man dennoch den Wert x als Parameter übergeben, erhält man bei der Ausführung einen ValueError. Solche Fehler, denen eine kleine Abweichung im Datenformat zugrunde liegt sind sehr üblich und kosten den Entwickler oder Data Scientist oft viel Zeit. In diesem Fall ist die Behebung des Problems glücklicherweise direkt in der Fehlermeldung angegeben. In anderen Fällen empfiehlt es sich den Fehler zu googeln, bei einschlägigen Seite wie zum Beispiel Stakeoverflow zu suchen oder auf der Dokumentationsseite der verwendeten Bibliothek. In diesem Fall ist das: https://scikit-learn.org/stable/modules/generated/sklearn.linear_model.LinearRegression.html.\n",
    "\n",
    "</div>"
   ]
  },
  {
   "cell_type": "markdown",
   "metadata": {},
   "source": [
    "### Alernative Lösung mit Regression in 2 Bereichen\n",
    "Eine Extrapolation ist mit großen Unsicherheiten verbunden. Wenn überhaupt ist dieses Vorgehen nur erlaubt, wenn ein Experte den vorhergesagten Verlauf auch außerhalb des bekannten Bereichs fachlich begründen kann. Alternative Ergebnisse für dasselben Vorgehen (lineare Regression) entstehen, wenn man einen anderen Datenbereich zugrunde legt. Unten wird der Datenbereich aufgeteilt und zwei Geraden separat bestimmt."
   ]
  },
  {
   "cell_type": "code",
   "execution_count": 13,
   "metadata": {},
   "outputs": [
    {
     "data": {
      "image/png": "[encoded data removed]",
      "text/plain": [
       "<Figure size 864x432 with 1 Axes>"
      ]
     },
     "metadata": {
      "needs_background": "light"
     },
     "output_type": "display_data"
    }
   ],
   "source": [
    "x_1 = np.array(x[0:94])\n",
    "X_1 = np.array(x[0:94]).reshape(-1, 1)\n",
    "y_1 = np.array(y[0:94])\n",
    "model_1 = lm.fit(X_1, y_1) \n",
    "y_1_vorhersage = model_1.predict(X_1)\n",
    "\n",
    "x_2 = np.array(x[95:])\n",
    "X_2 = np.array(x[95:]).reshape(-1, 1)\n",
    "y_2 = np.array(y[95:])\n",
    "model_2 = lm.fit(X_2, y_2) \n",
    "y_2_vorhersage = model_2.predict(X_2)\n",
    "model_2.predict([[jahr_vorhersage]])\n",
    "\n",
    "#Plot der tatsächlichen Daten und beider Geraden\n",
    "plt.figure(figsize=(12, 6))\n",
    "plt.plot(x_1, y_1_vorhersage) # Gerade im ersten Bereich\n",
    "plt.plot(x_2, y_2_vorhersage) # Gerade im zweiten Bereich\n",
    "plt.plot(df['x'], df['y'], 'ro') # Scatter Plot der tatsächlichen Werte\n",
    "plt.plot(jahr_vorhersage, model_2.predict([[jahr_vorhersage]]), 'bo') # vorhergesagter Datenpunkt\n",
    "plt.title('Zusammenhang zwischen Jahreszahl x und Temperatur y in zwei Bereichen')\n",
    "plt.xlabel('x')\n",
    "plt.ylabel('y')\n",
    "plt.show()"
   ]
  },
  {
   "cell_type": "markdown",
   "metadata": {},
   "source": [
    "## Nicht-lineare Regression\n",
    "Woher wissen wir, dass eine Gerade eine gute Vorhersage ermöglicht? Alleine auf Basis der Daten wissen wir es überhaupt nicht.\n",
    "Anstatt der linearen Regression gibt es noch viele weitere Möglichkeiten einen Zusammenhang zwischen Einflussgrößen und Zielgröße herzustellen. Ein weitere relativ einfache Darstellung ist die eines Polynoms. Als ein weiteres Beispiel fitten wir ein Polynom dritten Grades an die bekannten Daten."
   ]
  },
  {
   "cell_type": "code",
   "execution_count": 14,
   "metadata": {},
   "outputs": [
    {
     "data": {
      "text/plain": [
       "array([10.06606329])"
      ]
     },
     "execution_count": 14,
     "metadata": {},
     "output_type": "execute_result"
    }
   ],
   "source": [
    "from sklearn.preprocessing import PolynomialFeatures\n",
    "from sklearn.linear_model import LinearRegression\n",
    "from sklearn.pipeline import Pipeline\n",
    "model = Pipeline([('poly', PolynomialFeatures(degree=3)), ('linear', LinearRegression(fit_intercept=False))])\n",
    "model = model.fit(X, y)\n",
    "model.predict([[2020]])"
   ]
  },
  {
   "cell_type": "markdown",
   "metadata": {},
   "source": [
    "Wiederum plotten wir die tatsächliche und vorhergesagte Temperatur."
   ]
  },
  {
   "cell_type": "code",
   "execution_count": 15,
   "metadata": {},
   "outputs": [
    {
     "data": {
      "image/png": "[encoded data removed]",
      "text/plain": [
       "<Figure size 864x432 with 1 Axes>"
      ]
     },
     "metadata": {
      "needs_background": "light"
     },
     "output_type": "display_data"
    }
   ],
   "source": [
    "plt.figure(figsize=(12, 6))\n",
    "plt.plot(x, model.predict(X))\n",
    "plt.plot(x, y, 'ro') \n",
    "plt.title('Zusammenhang zwischen Jahreszahl x und Temperatur y als Polynom')\n",
    "plt.plot(jahr_vorhersage, model.predict([[jahr_vorhersage]]), 'bo')\n",
    "plt.xlabel('x')\n",
    "plt.ylabel('y')\n",
    "plt.show()"
   ]
  },
  {
   "cell_type": "markdown",
   "metadata": {},
   "source": [
    "## Lineare Regression auf Basis von CO2-Daten\n",
    "Wir laden eine neue Datenquelle, die sowohl Temperatur als auch CO2 Daten enthält."
   ]
  },
  {
   "cell_type": "code",
   "execution_count": 18,
   "metadata": {},
   "outputs": [
    {
     "data": {
      "text/html": [
       "<div>\n",
       "<style scoped>\n",
       "    .dataframe tbody tr th:only-of-type {\n",
       "        vertical-align: middle;\n",
       "    }\n",
       "\n",
       "    .dataframe tbody tr th {\n",
       "        vertical-align: top;\n",
       "    }\n",
       "\n",
       "    .dataframe thead th {\n",
       "        text-align: right;\n",
       "    }\n",
       "</style>\n",
       "<table border=\"1\" class=\"dataframe\">\n",
       "  <thead>\n",
       "    <tr style=\"text-align: right;\">\n",
       "      <th></th>\n",
       "      <th>Jahr</th>\n",
       "      <th>Temperatur Deutschland</th>\n",
       "      <th>CO2 Konzentration</th>\n",
       "    </tr>\n",
       "  </thead>\n",
       "  <tbody>\n",
       "    <tr>\n",
       "      <th>0</th>\n",
       "      <td>1881</td>\n",
       "      <td>7.31</td>\n",
       "      <td>285.91</td>\n",
       "    </tr>\n",
       "    <tr>\n",
       "      <th>1</th>\n",
       "      <td>1882</td>\n",
       "      <td>8.34</td>\n",
       "      <td>284.45</td>\n",
       "    </tr>\n",
       "    <tr>\n",
       "      <th>2</th>\n",
       "      <td>1883</td>\n",
       "      <td>7.88</td>\n",
       "      <td>284.15</td>\n",
       "    </tr>\n",
       "    <tr>\n",
       "      <th>3</th>\n",
       "      <td>1884</td>\n",
       "      <td>8.57</td>\n",
       "      <td>283.65</td>\n",
       "    </tr>\n",
       "    <tr>\n",
       "      <th>4</th>\n",
       "      <td>1885</td>\n",
       "      <td>7.74</td>\n",
       "      <td>281.58</td>\n",
       "    </tr>\n",
       "  </tbody>\n",
       "</table>\n",
       "</div>"
      ],
      "text/plain": [
       "   Jahr  Temperatur Deutschland  CO2 Konzentration\n",
       "0  1881                    7.31             285.91\n",
       "1  1882                    8.34             284.45\n",
       "2  1883                    7.88             284.15\n",
       "3  1884                    8.57             283.65\n",
       "4  1885                    7.74             281.58"
      ]
     },
     "execution_count": 18,
     "metadata": {},
     "output_type": "execute_result"
    }
   ],
   "source": [
    "df_co2 = pd.read_csv('co2_temperatur_deutschland.csv', delimiter=\";\")\n",
    "\n",
    "df_co2.head()"
   ]
  },
  {
   "cell_type": "markdown",
   "metadata": {},
   "source": [
    "Wiederum führen wir eine lineare Regression durch. Dieses Mal wählen wiederum die Temperatur als Zielgröße, aber als Einflussgröße die CO2 Konzentration."
   ]
  },
  {
   "cell_type": "code",
   "execution_count": 20,
   "metadata": {},
   "outputs": [
    {
     "data": {
      "image/png": "[encoded data removed]",
      "text/plain": [
       "<Figure size 864x432 with 1 Axes>"
      ]
     },
     "metadata": {
      "needs_background": "light"
     },
     "output_type": "display_data"
    }
   ],
   "source": [
    "x = np.array(df_co2['CO2 Konzentration'])\n",
    "X = np.array(df_co2['CO2 Konzentration']).reshape(-1, 1)\n",
    "y = np.array(df_co2['Temperatur Deutschland'])\n",
    "\n",
    "model = lm.fit(X, y) \n",
    "y_vorhersage = model.predict(X)\n",
    "\n",
    "plt.figure(figsize=(12, 6))\n",
    "plt.plot(x, y_vorhersage) # Gerade aus linearer Regression\n",
    "plt.plot(x, y, 'ro') # Scatter Plot der tatsächlichen Werte\n",
    "plt.title('Zusammenhang zwischen CO2 Konzentration x und Temperatur y')\n",
    "plt.xlabel('x')\n",
    "plt.ylabel('y')\n",
    "plt.show()"
   ]
  },
  {
   "cell_type": "markdown",
   "metadata": {},
   "source": [
    "Welche Temperatur sagt unser Modell für den x-Wert 600 hervor?"
   ]
  },
  {
   "cell_type": "code",
   "execution_count": null,
   "metadata": {},
   "outputs": [],
   "source": []
  },
  {
   "cell_type": "markdown",
   "metadata": {},
   "source": [
    "Wie sähe das Ergebnis für eine nicht-lineare Interpolation aus?"
   ]
  },
  {
   "cell_type": "code",
   "execution_count": null,
   "metadata": {},
   "outputs": [],
   "source": []
  }
 ],
 "metadata": {
  "kernelspec": {
   "display_name": "Python 3",
   "language": "python",
   "name": "python3"
  },
  "language_info": {
   "codemirror_mode": {
    "name": "ipython",
    "version": 3
   },
   "file_extension": ".py",
   "mimetype": "text/x-python",
   "name": "python",
   "nbconvert_exporter": "python",
   "pygments_lexer": "ipython3",
   "version": "3.8.2"
  }
 },
 "nbformat": 4,
 "nbformat_minor": 4
}
