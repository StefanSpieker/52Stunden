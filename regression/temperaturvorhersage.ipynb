{
 "cells": [
  {
   "cell_type": "markdown",
   "metadata": {},
   "source": [
    "# Jupyter Notebook: Temperaturvorhersage"
   ]
  },
  {
   "cell_type": "markdown",
   "metadata": {},
   "source": [
    "## Daten Laden\n",
    "Als erstes laden wir die Datei (jährliche Durchschnittstemperaturen) aus der Datei 'regional_averages_tm_year.txt' und geben die Titelzeile aus damit wir wissen, dass wir die korrekte Datei lesen."
   ]
  },
  {
   "cell_type": "markdown",
   "metadata": {},
   "source": [
    "<div class=\"alert alert-info\">\n",
    "\n",
    "**Wichtig:** Die zu lesende Datei muss sich in demselben Verzeichnis befinden wie das Jupyter Notebook!\n",
    "\n",
    "Falls dies nicht der Fall ist muss die Datei in dasselbe Verzeichnis kopiert oder ein absoluter Pfad angegeben werden. Ein absoluter Pfad wäre zum Beispiel: 'C:/Downloads/regional_averages_tm_year.txt' anstatt 'regional_averages_tm_year.txt'.\n",
    "\n",
    "</div>"
   ]
  },
  {
   "cell_type": "markdown",
   "metadata": {},
   "source": [
    "Wir wollen wie beim letzten Mal, die Jahreszahlen und Temperaturen aus der Datei lesen. Diesmal beschränken wir uns auf die Temperatur in Berlin."
   ]
  },
  {
   "cell_type": "code",
   "execution_count": 13,
   "metadata": {},
   "outputs": [
    {
     "name": "stdout",
     "output_type": "stream",
     "text": [
      "['Jahr', 'Brandenburg/Berlin']\n"
     ]
    }
   ],
   "source": [
    "import csv\n",
    "jahr = []\n",
    "temperaturBerlin = []\n",
    "with open('regional_averages_tm_year.txt') as csvfile:\n",
    "    readCSV = csv.reader(csvfile, delimiter=';')\n",
    "    titel = next(readCSV, None)  # Titel auslesen\n",
    "    kopf = next(readCSV, None)  # Kopfzeile auslesen\n",
    "    if kopf:\n",
    "        print(kopf[1:3])\n",
    "    for row in readCSV:        \n",
    "        jahr.append(int(row[0]))\n",
    "        temperaturBerlin.append(float(row[3]))"
   ]
  },
  {
   "cell_type": "markdown",
   "metadata": {},
   "source": [
    "Dieses Mal geben wir uns nicht mit einfachen Arrays zufrieden. Stattdessen speichern wir die Daten in einem DataFrame. Zuletzt geben wir die ersten Werte in dem DataFrame aus."
   ]
  },
  {
   "cell_type": "markdown",
   "metadata": {},
   "source": [
    "<div class=\"alert alert-info\">\n",
    "\n",
    "**Wichtig:** Wir benötigen die Bibliotheken pandas und numpy.\n",
    "    \n",
    "Falls noch nicht geschehen, führe die Befehle 'pip install pandas' und 'pip install numpy' aus.\n",
    "\n",
    "</div>"
   ]
  },
  {
   "cell_type": "code",
   "execution_count": 14,
   "metadata": {},
   "outputs": [
    {
     "data": {
      "text/html": [
       "<div>\n",
       "<style scoped>\n",
       "    .dataframe tbody tr th:only-of-type {\n",
       "        vertical-align: middle;\n",
       "    }\n",
       "\n",
       "    .dataframe tbody tr th {\n",
       "        vertical-align: top;\n",
       "    }\n",
       "\n",
       "    .dataframe thead th {\n",
       "        text-align: right;\n",
       "    }\n",
       "</style>\n",
       "<table border=\"1\" class=\"dataframe\">\n",
       "  <thead>\n",
       "    <tr style=\"text-align: right;\">\n",
       "      <th></th>\n",
       "      <th>x</th>\n",
       "      <th>y</th>\n",
       "    </tr>\n",
       "  </thead>\n",
       "  <tbody>\n",
       "    <tr>\n",
       "      <th>0</th>\n",
       "      <td>1881</td>\n",
       "      <td>7.54</td>\n",
       "    </tr>\n",
       "    <tr>\n",
       "      <th>1</th>\n",
       "      <td>1882</td>\n",
       "      <td>8.97</td>\n",
       "    </tr>\n",
       "    <tr>\n",
       "      <th>2</th>\n",
       "      <td>1883</td>\n",
       "      <td>8.41</td>\n",
       "    </tr>\n",
       "    <tr>\n",
       "      <th>3</th>\n",
       "      <td>1884</td>\n",
       "      <td>9.10</td>\n",
       "    </tr>\n",
       "    <tr>\n",
       "      <th>4</th>\n",
       "      <td>1885</td>\n",
       "      <td>8.39</td>\n",
       "    </tr>\n",
       "  </tbody>\n",
       "</table>\n",
       "</div>"
      ],
      "text/plain": [
       "      x     y\n",
       "0  1881  7.54\n",
       "1  1882  8.97\n",
       "2  1883  8.41\n",
       "3  1884  9.10\n",
       "4  1885  8.39"
      ]
     },
     "execution_count": 14,
     "metadata": {},
     "output_type": "execute_result"
    }
   ],
   "source": [
    "import pandas as pd\n",
    "import numpy as np\n",
    "\n",
    "x = jahr\n",
    "y = temperaturBerlin\n",
    "\n",
    "df = pd.DataFrame(\n",
    "    {'x': x,\n",
    "     'y': y}\n",
    ")\n",
    "\n",
    "df.head()"
   ]
  },
  {
   "cell_type": "markdown",
   "metadata": {},
   "source": [
    "## Berechne lineare Regression\n",
    "Nun berechnen wir anhand der Daten x und y ein lineares Modell, dass die Vorhersage von Temperaturen ermöglicht.\n",
    "\n",
    "### manuelle Berechnung\n",
    "Wir können a und b manuell berechnen. Mithilfe von pandas und numpy funktioniert das innerhalb weniger Zeilen. Für die Berechnung benötigen wir Mittelwert, Varianz von x und Covarianz von x und y. Auf die mathematischen Einzelheiten gehen wir an dieser Stelle nicht näher ein."
   ]
  },
  {
   "cell_type": "code",
   "execution_count": 15,
   "metadata": {},
   "outputs": [
    {
     "name": "stdout",
     "output_type": "stream",
     "text": [
      "a = -10.61641315519013\n",
      "b = 0.009955806783144913\n"
     ]
    }
   ],
   "source": [
    "x_mittel = np.mean(x)\n",
    "y_mittel = np.mean(y)\n",
    "\n",
    "df['xy_cov'] = (df['x'] - x_mittel) * (df['y'] - y_mittel)\n",
    "df['x_var'] = (df['x'] - x_mittel)**2\n",
    "\n",
    "b = df['xy_cov'].sum() / df['x_var'].sum()\n",
    "a = y_mittel - (b * x_mittel)\n",
    "print(f'a = {a}')\n",
    "print(f'b = {b}')"
   ]
  },
  {
   "cell_type": "markdown",
   "metadata": {},
   "source": [
    "Anhand von a und b können wir nun eine Abschätzung von y berechnen."
   ]
  },
  {
   "cell_type": "code",
   "execution_count": 24,
   "metadata": {},
   "outputs": [],
   "source": [
    "y_schaetzung = b*df['x'] + a"
   ]
  },
  {
   "cell_type": "markdown",
   "metadata": {},
   "source": [
    "### Ausgabe Ergebnisse\n",
    "Mit matplotlib können wir die tatsächlichen Werte y und die geschätzten Werte y_schaetzung in einer Grafik darstellen."
   ]
  },
  {
   "cell_type": "code",
   "execution_count": 25,
   "metadata": {},
   "outputs": [
    {
     "data": {
      "image/png": "[encoded data removed]",
      "text/plain": [
       "<Figure size 864x432 with 1 Axes>"
      ]
     },
     "metadata": {
      "needs_background": "light"
     },
     "output_type": "display_data"
    }
   ],
   "source": [
    "from matplotlib import pyplot as plt\n",
    "\n",
    "plt.figure(figsize=(12, 6))\n",
    "plt.plot(x, y_schaetzung) # mithilfe der linearen Regression bestimmte Gerade\n",
    "plt.plot(x, y, 'ro')      # scatter plot der tatsächlichen Werte\n",
    "plt.title('tatsächliche und vorhergesagte Temperatur')\n",
    "plt.xlabel('x')\n",
    "plt.ylabel('y')\n",
    "\n",
    "plt.show()"
   ]
  },
  {
   "cell_type": "markdown",
   "metadata": {},
   "source": [
    "Das eigentliche Grund eine Regression durchzuführen ist aber nicht die Abschätzung der bereits bekannten Werte, sondern die Vorhersage zukünftigen Verhalten. Daher plotten (engl. zeichnen) wir nun die Gerade bis zu dem Jahr 2075. Die Vorhersage für das Jahr 2060 können wir nun aus der Grafik ablesen."
   ]
  },
  {
   "cell_type": "code",
   "execution_count": 27,
   "metadata": {},
   "outputs": [
    {
     "data": {
      "image/png": "[encoded data removed]",
      "text/plain": [
       "<Figure size 864x432 with 1 Axes>"
      ]
     },
     "metadata": {
      "needs_background": "light"
     },
     "output_type": "display_data"
    }
   ],
   "source": [
    "x_erweitert = range(1881,2075)\n",
    "y_vorhersage_erweitert = b*x_erweitert + a\n",
    "\n",
    "plt.figure(figsize=(12, 6))\n",
    "plt.plot(x_erweitert, y_vorhersage_erweitert) # Gerade im erweiterten Bereich\n",
    "plt.plot(x, y, 'ro')                          # scatter plot der tatsächlichen Werte\n",
    "plt.axvline(2060, linewidth=1, color='k', linestyle='--')\n",
    "plt.axhline(9.9, linewidth=1, color='k', linestyle='--')\n",
    "plt.title('tatsächliche und vorhergesagte Temperatur')\n",
    "plt.xlabel('x')\n",
    "plt.ylabel('y')\n",
    "\n",
    "plt.show()"
   ]
  },
  {
   "cell_type": "markdown",
   "metadata": {},
   "source": [
    "### Berechnung mithilfe von scikit-learn\n",
    "Noch einfacher lassen sich Verfahren wie die lineare Regression mithilfe von scikit-learn durchführen. Das erfolgt in drei Schritte: \n",
    "\n",
    "1. Modell initialisieren\n",
    "2. Modell fitten (engl. anpassen)\n",
    "3. Modell auswerten\n",
    "\n",
    "Beachte, dass auch diesmal wieder die Variablen a und b bestimmt werden. Nur tun wir dies nicht selbst. Stattdessen werden sie während dem Fitten des Modells durch die scikit-learn Bibliothek berechnet. Wir können uns a und b aber ausgeben lassen und kontrollieren ob dieselbe Werte angezeigt werden wie in unserer manuellen Berechnung oben."
   ]
  },
  {
   "cell_type": "markdown",
   "metadata": {},
   "source": [
    "<div class=\"alert alert-info\">\n",
    "\n",
    "**Wichtig:** Wir benötigen die Bibliothek scikit-learn.\n",
    "    \n",
    "Falls noch nicht geschehen, führe den Befehl 'pip install scikit-learn' aus.\n",
    "\n",
    "</div>\n",
    "\n",
    "<div class=\"alert alert-info\">\n",
    "\n",
    "**Hinweis:** Für das Fitten des Modells erwartet die scikit-learn Bibliothek eine Matrix X und einen Vektor y als Eingabe.\n",
    "    \n",
    "Hättest du die Funktion reshape() verwendet? Entferne das Kommentarzeichen aus den entsprechenden Zeilen und versuche was passiert, wenn du den Vektor x direkt an die fit-Funktion übergibst.\n",
    "    \n",
    "Das X als Matrix angegeben wird ist verständlich, da ja mehr als nur eine einzige Einflussgröße existieren kann. Sollte man dennoch den Wert x als Parameter übergeben, erhält man bei der Ausführung einen ValueError. Solche Fehler, denen eine kleine Abweichung im Datenformat zugrunde liegt sind sehr üblich und kosten den Entwickler oder Data Scientist oft viel Zeit. In diesem Fall ist die Behebung des Problems glücklicherweise direkt in der Fehlermeldung angegeben. In anderen Fällen empfiehlt es sich den Fehler zu googeln, bei einschlägigen Seite wie zum Beispiel Stakeoverflow zu suchen oder auf der Dokumentationsseite der verwendeten Bibliothek. In diesem Fall ist das: https://scikit-learn.org/stable/modules/generated/sklearn.linear_model.LinearRegression.html.\n",
    "\n",
    "</div>"
   ]
  },
  {
   "cell_type": "code",
   "execution_count": 32,
   "metadata": {
    "scrolled": true
   },
   "outputs": [
    {
     "name": "stdout",
     "output_type": "stream",
     "text": [
      "a = -10.61641315519013\n",
      "b = [0.00995581]\n"
     ]
    }
   ],
   "source": [
    "from sklearn.linear_model import LinearRegression\n",
    "\n",
    "#x = np.array(jahr)\n",
    "X = np.array(jahr).reshape(-1, 1)\n",
    "y = np.array(temperaturBerlin)\n",
    "\n",
    "# 1. Modell initialisieren\n",
    "lm = LinearRegression() \n",
    "\n",
    "# 2. Modell fitten\n",
    "#model = lm.fit(x,y)\n",
    "model = lm.fit(X, y) \n",
    "\n",
    "print(f'a = {model.intercept_}')\n",
    "print(f'b = {model.coef_}')"
   ]
  },
  {
   "cell_type": "markdown",
   "metadata": {},
   "source": [
    "Die Auswertung des Modells erfolgt mit der predict-Methode. Welche Temperatur wird für 2060 vorhergesagt? Deckt sich die Vorhersage mit unserer manuellen Berechnung beziehungsweise dem Plot?"
   ]
  },
  {
   "cell_type": "code",
   "execution_count": 21,
   "metadata": {},
   "outputs": [
    {
     "data": {
      "text/plain": [
       "array([9.89254882])"
      ]
     },
     "execution_count": 21,
     "metadata": {},
     "output_type": "execute_result"
    }
   ],
   "source": [
    "# 3. Modell auswerten\n",
    "model.predict([[2060]])"
   ]
  },
  {
   "cell_type": "markdown",
   "metadata": {},
   "source": [
    "## Nicht-lineare Regression\n",
    "Woher wissen wir, dass eine Gerade eine gute Vorhersage ermöglicht? Wir wissen es nicht.\n",
    "Anstatt der linearen Regression gibt es noch viele weitere Möglichkeiten einen Zusammenhang zwischen Einflussgrößen und Zielgröße herzustellen. Ein weitere relativ einfache Darstellung ist die eines Polynoms. Als ein weiteres Beispiel fitten wir ein Polynom dritten Grades an die bekannten Daten."
   ]
  },
  {
   "cell_type": "code",
   "execution_count": 33,
   "metadata": {},
   "outputs": [
    {
     "data": {
      "text/plain": [
       "array([-2.70266574e+04,  4.18639741e+01, -2.16074192e-02,  3.71721628e-06])"
      ]
     },
     "execution_count": 33,
     "metadata": {},
     "output_type": "execute_result"
    }
   ],
   "source": [
    "from sklearn.preprocessing import PolynomialFeatures\n",
    "from sklearn.linear_model import LinearRegression\n",
    "from sklearn.pipeline import Pipeline\n",
    "model = Pipeline([('poly', PolynomialFeatures(degree=3)), ('linear', LinearRegression(fit_intercept=False))])\n",
    "model = model.fit(X, y)\n",
    "model.named_steps['linear'].coef_"
   ]
  },
  {
   "cell_type": "markdown",
   "metadata": {},
   "source": [
    "Wiederum plotten wir die tatsächliche und vorhergesagte Temperatur."
   ]
  },
  {
   "cell_type": "code",
   "execution_count": 35,
   "metadata": {},
   "outputs": [
    {
     "data": {
      "image/png": "[encoded data removed]",
      "text/plain": [
       "<Figure size 864x432 with 1 Axes>"
      ]
     },
     "metadata": {
      "needs_background": "light"
     },
     "output_type": "display_data"
    }
   ],
   "source": [
    "plt.figure(figsize=(12, 6))\n",
    "plt.plot(x, model.predict(X))\n",
    "plt.plot(x, y, 'ro') \n",
    "plt.title('tatsächliche und vorhergesagte Temperatur')\n",
    "plt.xlabel('x')\n",
    "plt.ylabel('y')\n",
    "plt.show()"
   ]
  },
  {
   "cell_type": "markdown",
   "metadata": {},
   "source": [
    "Wie sieht mithilfe der polynomialen Regression die Vorhersage für das Jahr 2060 aus?"
   ]
  },
  {
   "cell_type": "code",
   "execution_count": null,
   "metadata": {},
   "outputs": [],
   "source": []
  }
 ],
 "metadata": {
  "kernelspec": {
   "display_name": "Python 3",
   "language": "python",
   "name": "python3"
  },
  "language_info": {
   "codemirror_mode": {
    "name": "ipython",
    "version": 3
   },
   "file_extension": ".py",
   "mimetype": "text/x-python",
   "name": "python",
   "nbconvert_exporter": "python",
   "pygments_lexer": "ipython3",
   "version": "3.8.2"
  }
 },
 "nbformat": 4,
 "nbformat_minor": 4
}
