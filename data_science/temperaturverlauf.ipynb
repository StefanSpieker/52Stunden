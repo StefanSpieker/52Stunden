{
 "cells": [
  {
   "cell_type": "markdown",
   "metadata": {},
   "source": [
    "# Jupyter Notebook: Temperaturverlauf"
   ]
  },
  {
   "cell_type": "markdown",
   "metadata": {},
   "source": [
    "## Daten Laden\n",
    "Als erstes laden wir die Datei (jährliche Durchschnittstemperaturen) aus der Datei 'regional_averages_tm_year.txt' und geben die Titelzeile aus damit wir wissen, dass wir die korrekte Datei lesen."
   ]
  },
  {
   "cell_type": "markdown",
   "metadata": {},
   "source": [
    "<div class=\"alert alert-info\">\n",
    "\n",
    "**Wichtig:** Die zu lesende Datei muss sich in demselben Verzeichnis befinden wie das Jupyter Notebook!\n",
    "\n",
    "Falls dies nicht der Fall ist muss die Datei in dasselbe Verzeichnis kopiert oder ein absoluter Pfad angegeben werden. Ein absoluter Pfad wäre zum Beispiel: 'C:/Downloads/regional_averages_tm_year.txt' anstatt 'regional_averages_tm_year.txt'.\n",
    "\n",
    "</div>"
   ]
  },
  {
   "cell_type": "code",
   "execution_count": null,
   "metadata": {},
   "outputs": [],
   "source": [
    "import csv\n",
    "with open('regional_averages_tm_year.txt') as csvfile:\n",
    "    readCSV = csv.reader(csvfile, delimiter=';')\n",
    "    title = next(readCSV, None)  # returns title\n",
    "    print(title)"
   ]
  },
  {
   "cell_type": "markdown",
   "metadata": {},
   "source": [
    "Wir wollen nun die ersten 6 Spalten aus der Datei lesen. Dazu öffnen die Datei noch einmal. Nach dem Titel lesen wir die Zeile mit den Tabellenüberschriften (headers) und geben die ersten 6 Einträge aus. Danach lesen wir jede einzelne Zeile der Datei und tragen die Werte in den jeweiligen Array ein."
   ]
  },
  {
   "cell_type": "code",
   "execution_count": null,
   "metadata": {},
   "outputs": [],
   "source": [
    "jahr = []\n",
    "temperaturBerlin = []\n",
    "temperaturBrandenburg = []\n",
    "temperaturBW = []\n",
    "temperaturBayern = []\n",
    "temperaturHessen = []\n",
    "with open('regional_averages_tm_year.txt') as csvfile:\n",
    "    readCSV = csv.reader(csvfile, delimiter=';')\n",
    "    title = next(readCSV, None)  # returns title\n",
    "    headers = next(readCSV, None)  # returns headers\n",
    "    if headers:\n",
    "        print(headers[1:7])\n",
    "    for row in readCSV:        \n",
    "        jahr.append(int(row[0]))\n",
    "        temperaturBerlin.append(float(row[3]))\n",
    "        temperaturBrandenburg.append(float(row[4]))\n",
    "        temperaturBW.append(float(row[5]))\n",
    "        temperaturBayern.append(float(row[6]))\n",
    "        temperaturHessen.append(float(row[7]))"
   ]
  },
  {
   "cell_type": "markdown",
   "metadata": {},
   "source": [
    "## Daten Auswerten und Visualisieren\n",
    "Als nächstes wollen wir die Daten visualisieren um ein besseres Verständnis von ihnen zu gewinnen. Die Bibliothek matplotlib ist für alle möglichen Arten der grafischen Darstellung geeignet. \n",
    "### Historischer Verlauf Berlin\n",
    "Wir starten mit einem ganz einfachen Liniendiagramm. Auf der horizontalen Achse wird der Array jahr mit den Jahreszahlen dargestellt und auf der vertikalen Achse der Array temperaturBerlin also die erste Spale von Temperaturwerten aus der Quelldatei."
   ]
  },
  {
   "cell_type": "code",
   "execution_count": null,
   "metadata": {},
   "outputs": [],
   "source": [
    "import matplotlib.pyplot as plt\n",
    "plt.plot(jahr, temperaturBerlin)"
   ]
  },
  {
   "cell_type": "markdown",
   "metadata": {},
   "source": [
    "### Niedrigste und höchste Durchschnittstemperatur Berlin\n",
    "Eine einfache Auswertung ist die Untersuchung der minimalen und maximalen Werte eines Arrays."
   ]
  },
  {
   "cell_type": "code",
   "execution_count": null,
   "metadata": {},
   "outputs": [],
   "source": [
    "minBerlin = min(temperaturBerlin)\n",
    "jahrMinBerlin = jahr[temperaturBerlin.index(min(temperaturBerlin))]\n",
    "print (\"niedrigste jährliche Durchschnittstemperatur in Berlin: \" + str(minBerlin) + \" - aus Jahr \" + str(jahrMinBerlin))\n",
    "maxBerlin = max(temperaturBerlin)\n",
    "jahrMaxBerlin = jahr[temperaturBerlin.index(max(temperaturBerlin))]\n",
    "print (\"höchste jährliche Durchschnittstemperatur in Berlin: \" + str(maxBerlin) + \" - aus Jahr \" + str(jahrMaxBerlin))"
   ]
  },
  {
   "cell_type": "markdown",
   "metadata": {},
   "source": [
    "### Darstellung von 5 Bundesländern\n",
    "Als nächstes erstellen wir eine etwas aufwändigere Grafik, die alle Arrays enthält inklusive Beschriftungen. Es handelt sich um einen sogenannten Scatter plot (englisch Streudiagramm) in dem die verstreut dargestellt werden Datenpunkte."
   ]
  },
  {
   "cell_type": "code",
   "execution_count": null,
   "metadata": {},
   "outputs": [],
   "source": [
    "plt.title(\"Temperaturen 5 Bundesländer\")\n",
    "plt.xlabel(\"Jahr\")\n",
    "plt.ylabel(\"Temperatur\")\n",
    "plt.plot(jahr, temperaturBerlin, \"r*\", markersize=6, linewidth=1, color='g', label=\"Berlin\")\n",
    "plt.plot(jahr, temperaturBrandenburg, \"r*\", markersize=6, linewidth=1, color='r', label=\"Brandenburg\")\n",
    "plt.plot(jahr, temperaturBW, \"r*\", markersize=6, linewidth=1, color='b', label=\"BadenWuerttemberg\")\n",
    "plt.plot(jahr, temperaturBayern, \"r*\", markersize=6, linewidth=1, color='y', label=\"Bayern\")\n",
    "plt.plot(jahr, temperaturHessen, \"r*\", markersize=6, linewidth=1, color='m', label=\"Hessen\")\n",
    "plt.legend(loc=(.95, 0.025))\n",
    "plt.show()"
   ]
  },
  {
   "cell_type": "markdown",
   "metadata": {},
   "source": [
    "### Verteilung von Temperaturdaten\n",
    "Zur Darstellung der Verteilung von Daten verwendet man gerne den Box plot (englisch Kastengrafik). "
   ]
  },
  {
   "cell_type": "code",
   "execution_count": null,
   "metadata": {
    "scrolled": true
   },
   "outputs": [],
   "source": [
    "box_plot_data=[temperaturBerlin,temperaturBrandenburg,temperaturBW,temperaturBayern,temperaturHessen]\n",
    "box_plot_names=[\"Berlin\",\"Brandenburg\",\"Baden-Wuerttemberg\",\"Bayern\",\"Hessen\"]\n",
    "fig = plt.figure(1, figsize=(12, 5))\n",
    "ax = fig.add_subplot(111)\n",
    "bp = ax.boxplot(box_plot_data)\n",
    "ax.set_xticklabels([\"Berlin\",\"Brandenburg\",\"Baden-Wuerttemberg\",\"Bayern\",\"Hessen\"])\n",
    "plt.show()"
   ]
  },
  {
   "cell_type": "code",
   "execution_count": null,
   "metadata": {},
   "outputs": [],
   "source": []
  }
 ],
 "metadata": {
  "kernelspec": {
   "display_name": "Python 3",
   "language": "python",
   "name": "python3"
  },
  "language_info": {
   "codemirror_mode": {
    "name": "ipython",
    "version": 3
   },
   "file_extension": ".py",
   "mimetype": "text/x-python",
   "name": "python",
   "nbconvert_exporter": "python",
   "pygments_lexer": "ipython3",
   "version": "3.8.2"
  }
 },
 "nbformat": 4,
 "nbformat_minor": 4
}
